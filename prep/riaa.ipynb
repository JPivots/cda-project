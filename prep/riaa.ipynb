{
 "cells": [
  {
   "cell_type": "code",
   "execution_count": 1,
   "id": "c73edf18-ab73-4cec-8e16-ce570600ef80",
   "metadata": {},
   "outputs": [],
   "source": [
    "import pandas as pd\n",
    "import csv"
   ]
  },
  {
   "cell_type": "code",
   "execution_count": 2,
   "id": "7a1a1678-f92f-4de4-9a04-c23f382e3bfb",
   "metadata": {},
   "outputs": [],
   "source": [
    "with open('RIAA_Top_Artists.csv','r') as csv_file:\n",
    "    _csv = csv.reader(csv_file)\n",
    "    riaa = [row for row in _csv]"
   ]
  },
  {
   "cell_type": "code",
   "execution_count": 3,
   "id": "4aacde9f-5a8e-4a0a-b369-b6d3ec7f8507",
   "metadata": {},
   "outputs": [],
   "source": [
    "riaa_cleaned =[]\n",
    "for i, row in enumerate(riaa):\n",
    "    if row[0]:\n",
    "        if row[0] not in ('(In Millions)','SHARE'):\n",
    "            riaa_cleaned.append(row)\n"
   ]
  },
  {
   "cell_type": "code",
   "execution_count": 9,
   "id": "4d5bc2b0-0d5a-4b7e-a2f2-89a64175d2fe",
   "metadata": {},
   "outputs": [],
   "source": [
    "with open('RIAA_Top_Artists_Cleaned.csv','w', newline=\"\") as csv_file:\n",
    "    csv_writer = csv.writer(csv_file)\n",
    "    csv_writer.writerows(riaa_cleaned)"
   ]
  }
 ],
 "metadata": {
  "kernelspec": {
   "display_name": "Python 3 (ipykernel)",
   "language": "python",
   "name": "python3"
  },
  "language_info": {
   "codemirror_mode": {
    "name": "ipython",
    "version": 3
   },
   "file_extension": ".py",
   "mimetype": "text/x-python",
   "name": "python",
   "nbconvert_exporter": "python",
   "pygments_lexer": "ipython3",
   "version": "3.10.6"
  }
 },
 "nbformat": 4,
 "nbformat_minor": 5
}
