{
 "cells": [
  {
   "cell_type": "code",
   "execution_count": 1,
   "metadata": {},
   "outputs": [],
   "source": [
    "import matplotlib.pyplot as plt\n",
    "from wordcloud import WordCloud, STOPWORDS\n",
    "# package that performs scraping of genius website to obtain lyrics and meta data\n",
    "from lyricsgenius import Genius\n",
    "import pandas as pd\n",
    "#config file with token from genius\n",
    "import config\n",
    "token = config.lyricsgenius['token']\n",
    "genius = Genius(token)\n",
    "# Create stopword list:\n",
    "stopwords = set(STOPWORDS)\n",
    "stopwords.update([\"br\", \"href\"])"
   ]
  },
  {
   "cell_type": "code",
   "execution_count": 2,
   "metadata": {},
   "outputs": [],
   "source": [
    "# Remove section headers (e.g. [Chorus]) from lyrics when searching\n",
    "genius.remove_section_headers = True\n",
    "# Exclude songs with these words in their title\n",
    "genius.excluded_terms = [\"(Remix)\", \"(Live)\"]"
   ]
  },
  {
   "cell_type": "code",
   "execution_count": 3,
   "metadata": {},
   "outputs": [
    {
     "data": {
      "text/html": [
       "<div>\n",
       "<style scoped>\n",
       "    .dataframe tbody tr th:only-of-type {\n",
       "        vertical-align: middle;\n",
       "    }\n",
       "\n",
       "    .dataframe tbody tr th {\n",
       "        vertical-align: top;\n",
       "    }\n",
       "\n",
       "    .dataframe thead th {\n",
       "        text-align: right;\n",
       "    }\n",
       "</style>\n",
       "<table border=\"1\" class=\"dataframe\">\n",
       "  <thead>\n",
       "    <tr style=\"text-align: right;\">\n",
       "      <th></th>\n",
       "      <th>uri</th>\n",
       "      <th>name</th>\n",
       "      <th>iso_nn6_nc2_1</th>\n",
       "      <th>iso_nn6_nc2_2</th>\n",
       "      <th>se_nn6_nc2_1</th>\n",
       "      <th>se_nn6_nc2_2</th>\n",
       "      <th>km_nn6_nc2</th>\n",
       "      <th>iso_nn9_nc3_1</th>\n",
       "      <th>iso_nn9_nc3_2</th>\n",
       "      <th>iso_nn9_nc3_3</th>\n",
       "      <th>se_nn9_nc3_1</th>\n",
       "      <th>se_nn9_nc3_2</th>\n",
       "      <th>se_nn9_nc3_3</th>\n",
       "      <th>km_nn9_nc3</th>\n",
       "      <th>iso_n6_p1</th>\n",
       "      <th>iso_n6_p2</th>\n",
       "    </tr>\n",
       "  </thead>\n",
       "  <tbody>\n",
       "    <tr>\n",
       "      <th>0</th>\n",
       "      <td>spotify:artist:01WjpKiWVNurV5hjIadB8C</td>\n",
       "      <td>Filter</td>\n",
       "      <td>-0.827827</td>\n",
       "      <td>2.454767</td>\n",
       "      <td>-0.009891</td>\n",
       "      <td>0.059507</td>\n",
       "      <td>2</td>\n",
       "      <td>-0.609794</td>\n",
       "      <td>1.974029</td>\n",
       "      <td>-0.166049</td>\n",
       "      <td>-0.009891</td>\n",
       "      <td>0.059507</td>\n",
       "      <td>-0.012482</td>\n",
       "      <td>2</td>\n",
       "      <td>-1.098138</td>\n",
       "      <td>0.959740</td>\n",
       "    </tr>\n",
       "    <tr>\n",
       "      <th>1</th>\n",
       "      <td>spotify:artist:02NfyD6AlLA12crYzw5YcR</td>\n",
       "      <td>Jane's Addiction</td>\n",
       "      <td>-2.065492</td>\n",
       "      <td>8.415246</td>\n",
       "      <td>-0.012815</td>\n",
       "      <td>0.068954</td>\n",
       "      <td>6</td>\n",
       "      <td>-2.646985</td>\n",
       "      <td>8.068464</td>\n",
       "      <td>-1.208217</td>\n",
       "      <td>-0.012815</td>\n",
       "      <td>0.068954</td>\n",
       "      <td>0.008179</td>\n",
       "      <td>6</td>\n",
       "      <td>-2.007661</td>\n",
       "      <td>4.328638</td>\n",
       "    </tr>\n",
       "    <tr>\n",
       "      <th>2</th>\n",
       "      <td>spotify:artist:02da1vDJ2hWqfK7aJL6SJm</td>\n",
       "      <td>Soul Asylum</td>\n",
       "      <td>5.967168</td>\n",
       "      <td>4.189702</td>\n",
       "      <td>-0.018383</td>\n",
       "      <td>0.005573</td>\n",
       "      <td>7</td>\n",
       "      <td>4.841379</td>\n",
       "      <td>5.086020</td>\n",
       "      <td>3.594868</td>\n",
       "      <td>-0.018383</td>\n",
       "      <td>0.005573</td>\n",
       "      <td>-0.000926</td>\n",
       "      <td>7</td>\n",
       "      <td>1.924828</td>\n",
       "      <td>2.523396</td>\n",
       "    </tr>\n",
       "    <tr>\n",
       "      <th>3</th>\n",
       "      <td>spotify:artist:0539gq2LM2VDs01rp8gnGz</td>\n",
       "      <td>Submersed</td>\n",
       "      <td>-2.575314</td>\n",
       "      <td>-1.662407</td>\n",
       "      <td>0.062961</td>\n",
       "      <td>-0.005974</td>\n",
       "      <td>4</td>\n",
       "      <td>-2.373169</td>\n",
       "      <td>-1.891014</td>\n",
       "      <td>0.370791</td>\n",
       "      <td>0.062961</td>\n",
       "      <td>-0.005974</td>\n",
       "      <td>-0.100760</td>\n",
       "      <td>4</td>\n",
       "      <td>-1.634556</td>\n",
       "      <td>-1.115581</td>\n",
       "    </tr>\n",
       "    <tr>\n",
       "      <th>4</th>\n",
       "      <td>spotify:artist:07jc1IMGtecDZzOL9cP50t</td>\n",
       "      <td>Days Of The New</td>\n",
       "      <td>-1.721144</td>\n",
       "      <td>10.200222</td>\n",
       "      <td>-0.009354</td>\n",
       "      <td>0.060154</td>\n",
       "      <td>6</td>\n",
       "      <td>-2.772502</td>\n",
       "      <td>8.667534</td>\n",
       "      <td>-0.425490</td>\n",
       "      <td>-0.009354</td>\n",
       "      <td>0.060154</td>\n",
       "      <td>-0.004940</td>\n",
       "      <td>6</td>\n",
       "      <td>-2.674786</td>\n",
       "      <td>4.140454</td>\n",
       "    </tr>\n",
       "  </tbody>\n",
       "</table>\n",
       "</div>"
      ],
      "text/plain": [
       "                                     uri              name  iso_nn6_nc2_1  \\\n",
       "0  spotify:artist:01WjpKiWVNurV5hjIadB8C            Filter      -0.827827   \n",
       "1  spotify:artist:02NfyD6AlLA12crYzw5YcR  Jane's Addiction      -2.065492   \n",
       "2  spotify:artist:02da1vDJ2hWqfK7aJL6SJm       Soul Asylum       5.967168   \n",
       "3  spotify:artist:0539gq2LM2VDs01rp8gnGz         Submersed      -2.575314   \n",
       "4  spotify:artist:07jc1IMGtecDZzOL9cP50t   Days Of The New      -1.721144   \n",
       "\n",
       "   iso_nn6_nc2_2  se_nn6_nc2_1  se_nn6_nc2_2  km_nn6_nc2  iso_nn9_nc3_1  \\\n",
       "0       2.454767     -0.009891      0.059507           2      -0.609794   \n",
       "1       8.415246     -0.012815      0.068954           6      -2.646985   \n",
       "2       4.189702     -0.018383      0.005573           7       4.841379   \n",
       "3      -1.662407      0.062961     -0.005974           4      -2.373169   \n",
       "4      10.200222     -0.009354      0.060154           6      -2.772502   \n",
       "\n",
       "   iso_nn9_nc3_2  iso_nn9_nc3_3  se_nn9_nc3_1  se_nn9_nc3_2  se_nn9_nc3_3  \\\n",
       "0       1.974029      -0.166049     -0.009891      0.059507     -0.012482   \n",
       "1       8.068464      -1.208217     -0.012815      0.068954      0.008179   \n",
       "2       5.086020       3.594868     -0.018383      0.005573     -0.000926   \n",
       "3      -1.891014       0.370791      0.062961     -0.005974     -0.100760   \n",
       "4       8.667534      -0.425490     -0.009354      0.060154     -0.004940   \n",
       "\n",
       "   km_nn9_nc3  iso_n6_p1  iso_n6_p2  \n",
       "0           2  -1.098138   0.959740  \n",
       "1           6  -2.007661   4.328638  \n",
       "2           7   1.924828   2.523396  \n",
       "3           4  -1.634556  -1.115581  \n",
       "4           6  -2.674786   4.140454  "
      ]
     },
     "execution_count": 3,
     "metadata": {},
     "output_type": "execute_result"
    }
   ],
   "source": [
    "# Importing artists in cluster\n",
    "artist_cluster_3 = pd.read_csv('../data/clusters/uri_map_3rd_cluster.csv')\n",
    "artist_cluster_3.head()"
   ]
  },
  {
   "cell_type": "code",
   "execution_count": 4,
   "metadata": {},
   "outputs": [],
   "source": [
    "top_5 = artist_cluster_3.name[:5]"
   ]
  },
  {
   "cell_type": "code",
   "execution_count": 5,
   "metadata": {},
   "outputs": [
    {
     "data": {
      "text/plain": [
       "110"
      ]
     },
     "execution_count": 5,
     "metadata": {},
     "output_type": "execute_result"
    }
   ],
   "source": [
    "artist_list = set(artist_cluster_3.name)\n",
    "len(artist_list)"
   ]
  },
  {
   "cell_type": "code",
   "execution_count": 6,
   "metadata": {},
   "outputs": [],
   "source": [
    "def get_lyrics(name, k):\n",
    "    c = 0\n",
    "    # for name in arr:\n",
    "    try:\n",
    "        songs = (genius.search_artist(name, k, sort='popularity')).songs\n",
    "        s = [song.lyrics for song in songs]\n",
    "        # file.write(\"\\n \\n   <|endoftext|>   \\n \\n\".join(s))\n",
    "        c += 1\n",
    "        print(f\"Songs grabbed:{len(s)}\")\n",
    "        return s\n",
    "    except:\n",
    "        print(f\"some exception at {name}: {c}\")\n",
    "    "
   ]
  },
  {
   "cell_type": "code",
   "execution_count": 7,
   "metadata": {},
   "outputs": [
    {
     "name": "stdout",
     "output_type": "stream",
     "text": [
      "Searching for songs by Filter...\n",
      "\n"
     ]
    }
   ],
   "source": [
    "songs = [get_lyrics(artist, 2) for artist in top_5]"
   ]
  },
  {
   "cell_type": "code",
   "execution_count": null,
   "metadata": {},
   "outputs": [],
   "source": [
    "len(songs)"
   ]
  },
  {
   "cell_type": "code",
   "execution_count": null,
   "metadata": {},
   "outputs": [],
   "source": [
    "# Joining all songs in 1 block of text\n",
    "text = \" \".join([str(item) for item in songs])"
   ]
  },
  {
   "cell_type": "code",
   "execution_count": null,
   "metadata": {},
   "outputs": [],
   "source": [
    "wordcloud = WordCloud(stopwords=stopwords).generate(text)\n",
    "plt.imshow(wordcloud, interpolation='bilinear')\n",
    "plt.axis(\"off\")\n",
    "plt.savefig('output/wordcloud_3rd_cluster.png')\n",
    "plt.show()"
   ]
  },
  {
   "cell_type": "markdown",
   "metadata": {},
   "source": [
    "------"
   ]
  }
 ],
 "metadata": {
  "kernelspec": {
   "display_name": "Python 3.10.6 64-bit",
   "language": "python",
   "name": "python3"
  },
  "language_info": {
   "codemirror_mode": {
    "name": "ipython",
    "version": 3
   },
   "file_extension": ".py",
   "mimetype": "text/x-python",
   "name": "python",
   "nbconvert_exporter": "python",
   "pygments_lexer": "ipython3",
   "version": "3.10.6"
  },
  "orig_nbformat": 4,
  "vscode": {
   "interpreter": {
    "hash": "aee8b7b246df8f9039afb4144a1f6fd8d2ca17a180786b69acc140d282b71a49"
   }
  }
 },
 "nbformat": 4,
 "nbformat_minor": 2
}
